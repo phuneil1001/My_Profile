{
  "nbformat": 4,
  "nbformat_minor": 0,
  "metadata": {
    "colab": {
      "provenance": [],
      "authorship_tag": "ABX9TyP+S/s1Ls1G28FDg/nC1xG9",
      "include_colab_link": true
    },
    "kernelspec": {
      "name": "python3",
      "display_name": "Python 3"
    },
    "language_info": {
      "name": "python"
    }
  },
  "cells": [
    {
      "cell_type": "markdown",
      "metadata": {
        "id": "view-in-github",
        "colab_type": "text"
      },
      "source": [
        "<a href=\"https://colab.research.google.com/drive/1Pib_WNdXi51uKhguP1upPyDvlB7cWCOS?usp=sharing\" target=\"_parent\"><img src=\"https://colab.research.google.com/assets/colab-badge.svg\" alt=\"Open In Colab\"/></a>"
      ]
    },
    {
      "cell_type": "code",
      "execution_count": null,
      "metadata": {
        "id": "cyj4t7u4a7q5"
      },
      "outputs": [],
      "source": []
    },
    {
      "cell_type": "markdown",
      "source": [
        "# Huấn luyện một mô hình nhận dạng âm thanh đơn giản"
      ],
      "metadata": {
        "id": "hFGdNzRRcZdz"
      }
    },
    {
      "cell_type": "markdown",
      "source": [
        "Notebook này minh họa cách huấn luyện một mô hình Nhận diện Âm thanh Đơn giản (Simple Audio Recognition) có kích thước chỉ 20 kB để nhận biết các từ khóa trong lời nói.\n",
        "\n",
        "Mô hình được tạo ra trong notebook này sẽ được sử dụng trong ví dụ micro_speech dành cho TensorFlow Lite for MicroControllers.\n",
        "\n",
        "<table class=\"tfo-notebook-buttons\" align=\"left\"> <td> <a target=\"_blank\" href=\"https://colab.research.google.com/drive/1Pib_WNdXi51uKhguP1upPyDvlB7cWCOS?usp=sharing\"><img src=\"https://www.tensorflow.org/images/colab_logo_32px.png\" />Chạy trên Google Colab</a> </td> <td> <a target=\"_blank\" href=\"https://github.com/phuneil1001/My_Profile/blob/main/train_micro_speech_model_phuneil.ipynb\"><img src=\"https://www.tensorflow.org/images/GitHub-Mark-32px.png\" />Xem mã nguồn trên GitHub</a> </td> </table>"
      ],
      "metadata": {
        "id": "2-sAjRmidsIP"
      }
    },
    {
      "cell_type": "markdown",
      "source": [
        "**Đào tạo nhanh hơn nhiều khi sử dụng tăng tốc GPU.** Trước khi tiếp tục, hãy đảm bảo bạn đang sử dụng thời gian chạy GPU bằng cách vào **Thời gian chạy -> Thay đổi loại thời gian chạy** và đặt **Bộ tăng tốc phần cứng: GPU**. Đào tạo 15.000 lần lặp sẽ mất 1,5 - 2 giờ trên thời gian chạy GPU.\n",
        "\n",
        "## Cấu hình mặc định\n",
        "\n",
        "**SỬA ĐỔI** các hằng số sau cho trường hợp sử dụng cụ thể của bạn."
      ],
      "metadata": {
        "id": "cW0biwgTebUq"
      }
    },
    {
      "cell_type": "code",
      "source": [
        "# Một danh sách các từ (phân tách bằng dấu phẩy) mà bạn muốn huấn luyện.\n",
        "# Các lựa chọn bao gồm: yes,no,up,down,left,right,on,off,stop,go\n",
        "# Tất cả các từ khác sẽ được dùng để huấn luyện nhãn \"unknown\" và dữ liệu âm thanh yên lặng (không có từ nào được nói) sẽ dùng để huấn luyện nhãn \"silence\".\n",
        "WANTED_WORDS = \"yes,no\"\n",
        "\n",
        "# Số bước huấn luyện và các mức learning rate có thể được chỉ định dưới dạng danh sách phân tách bằng dấu phẩy.\n",
        "# Ví dụ, TRAINING_STEPS=12000,3000 và LEARNING_RATE=0.001,0.0001\n",
        "# sẽ chạy tổng cộng 12.000 vòng lặp huấn luyện, với learning rate là 0.001 cho 8.000 bước đầu,\n",
        "# và 0.0001 cho 3.000 bước cuối cùng.\n",
        "TRAINING_STEPS = \"12000,3000\"\n",
        "LEARNING_RATE = \"0.001,0.0001\"\n",
        "\n",
        "# Tính tổng số bước huấn luyện, giá trị này sẽ được dùng để xác định tên file checkpoint.\n",
        "TOTAL_STEPS = str(sum(map(lambda string: int(string), TRAINING_STEPS.split(\",\"))))\n",
        "\n",
        "# In ra cấu hình để xác nhận\n",
        "print(\"Training these words: %s\" % WANTED_WORDS)\n",
        "print(\"Training steps in each stage: %s\" % TRAINING_STEPS)\n",
        "print(\"Learning rate in each stage: %s\" % LEARNING_RATE)\n",
        "print(\"Total number of training steps: %s\" % TOTAL_STEPS)\n"
      ],
      "metadata": {
        "id": "f3u4D7vCfXsn"
      },
      "execution_count": null,
      "outputs": []
    },
    {
      "cell_type": "markdown",
      "source": [
        "**DO NOT MODIFY** các hằng số sau vì chúng bao gồm các đường dẫn tệp được sử dụng trong sổ ghi chép này và dữ liệu được chia sẻ trong quá trình đào tạo và suy luận."
      ],
      "metadata": {
        "id": "3u3F0yOefoeG"
      }
    },
    {
      "cell_type": "code",
      "source": [
        "# Tính tỷ lệ mẫu huấn luyện cho 'silence' và 'unknown'\n",
        "# để đảm bảo số lượng mẫu cho mỗi nhãn là bằng nhau.\n",
        "number_of_labels = WANTED_WORDS.count(',') + 1\n",
        "number_of_total_labels = number_of_labels + 2 # cộng thêm 2 nhãn: 'silence' và 'unknown'\n",
        "equal_percentage_of_training_samples = int(100.0/(number_of_total_labels))\n",
        "SILENT_PERCENTAGE = equal_percentage_of_training_samples\n",
        "UNKNOWN_PERCENTAGE = equal_percentage_of_training_samples\n",
        "\n",
        "# Các hằng số dùng chung cho cả quá trình huấn luyện và suy luận\n",
        "PREPROCESS = 'micro'\n",
        "WINDOW_STRIDE = 20\n",
        "MODEL_ARCHITECTURE = 'tiny_conv' # Các lựa chọn khác gồm: single_fc, conv,\n",
        "                      # low_latency_conv, low_latency_svdf, tiny_embedding_conv\n",
        "\n",
        "# Các hằng số chỉ dùng cho huấn luyện\n",
        "VERBOSITY = 'WARN'\n",
        "EVAL_STEP_INTERVAL = '1000'\n",
        "SAVE_STEP_INTERVAL = '1000'\n",
        "\n",
        "# Đường dẫn thư mục và file dùng trong huấn luyện\n",
        "DATASET_DIR =  'dataset/'\n",
        "LOGS_DIR = 'logs/'\n",
        "TRAIN_DIR = 'train/' # lưu các checkpoint và file huấn luyện khác.\n",
        "\n",
        "# Đường dẫn thư mục và file dùng trong suy luận\n",
        "import os\n",
        "MODELS_DIR = 'models'\n",
        "if not os.path.exists(MODELS_DIR):\n",
        "  os.mkdir(MODELS_DIR)\n",
        "MODEL_TF = os.path.join(MODELS_DIR, 'model.pb')\n",
        "MODEL_TFLITE = os.path.join(MODELS_DIR, 'model.tflite')\n",
        "FLOAT_MODEL_TFLITE = os.path.join(MODELS_DIR, 'float_model.tflite')\n",
        "MODEL_TFLITE_MICRO = os.path.join(MODELS_DIR, 'model.cc')\n",
        "SAVED_MODEL = os.path.join(MODELS_DIR, 'saved_model')\n",
        "\n",
        "QUANT_INPUT_MIN = 0.0\n",
        "QUANT_INPUT_MAX = 26.0\n",
        "QUANT_INPUT_RANGE = QUANT_INPUT_MAX - QUANT_INPUT_MIN\n"
      ],
      "metadata": {
        "id": "iMgMVJrWgDX_"
      },
      "execution_count": null,
      "outputs": []
    },
    {
      "cell_type": "markdown",
      "source": [
        "## Thiết lập Môi trường\n",
        "\n",
        "Cài đặt Phụ thuộc"
      ],
      "metadata": {
        "id": "G7ldvvXDgPlU"
      }
    },
    {
      "cell_type": "code",
      "source": [
        "import tensorflow as tf"
      ],
      "metadata": {
        "id": "qTsWKiAwgUJW"
      },
      "execution_count": null,
      "outputs": []
    },
    {
      "cell_type": "markdown",
      "source": [
        "**XÓA** mọi dữ liệu cũ từ các lần chạy trước"
      ],
      "metadata": {
        "id": "vZ6GAdePgXs3"
      }
    },
    {
      "cell_type": "code",
      "source": [
        "!rm -rf {DATASET_DIR} {LOGS_DIR} {TRAIN_DIR} {MODELS_DIR}"
      ],
      "metadata": {
        "id": "hk9H_UTCgZEg"
      },
      "execution_count": null,
      "outputs": []
    },
    {
      "cell_type": "markdown",
      "source": [
        "Clone Repo Github của TensorFlow, nơi chứa mã liên quan cần thiết để chạy hướng dẫn này."
      ],
      "metadata": {
        "id": "GniNrnLvgkZZ"
      }
    },
    {
      "cell_type": "code",
      "source": [
        "!git clone -q --depth 1 https://github.com/tensorflow/tensorflow"
      ],
      "metadata": {
        "id": "JJZJI1KsgtuM"
      },
      "execution_count": null,
      "outputs": []
    },
    {
      "cell_type": "markdown",
      "source": [
        "Tải TensorBoard để trực quan hóa độ chính xác và mất mát trong quá trình đào tạo."
      ],
      "metadata": {
        "id": "uXyp59CEgxMn"
      }
    },
    {
      "cell_type": "code",
      "source": [
        "%load_ext tensorboard\n",
        "%tensorboard --logdir {LOGS_DIR}"
      ],
      "metadata": {
        "id": "HYM8gwgDgzle"
      },
      "execution_count": null,
      "outputs": []
    },
    {
      "cell_type": "markdown",
      "source": [
        "## Huấn luyện\n",
        "\n",
        "Đoạn mã sau sẽ tải về bộ dữ liệu và bắt đầu quá trình huấn luyện.\n"
      ],
      "metadata": {
        "id": "URoy36fjg0U5"
      }
    },
    {
      "cell_type": "markdown",
      "source": [],
      "metadata": {
        "id": "T0Z5TeKHie4M"
      }
    },
    {
      "cell_type": "code",
      "source": [
        "!python tensorflow/tensorflow/examples/speech_commands/train.py \\\n",
        "--data_dir={DATASET_DIR} \\\n",
        "--wanted_words={WANTED_WORDS} \\\n",
        "--silence_percentage={SILENT_PERCENTAGE} \\\n",
        "--unknown_percentage={UNKNOWN_PERCENTAGE} \\\n",
        "--preprocess={PREPROCESS} \\\n",
        "--window_stride={WINDOW_STRIDE} \\\n",
        "--model_architecture={MODEL_ARCHITECTURE} \\\n",
        "--how_many_training_steps={TRAINING_STEPS} \\\n",
        "--learning_rate={LEARNING_RATE} \\\n",
        "--train_dir={TRAIN_DIR} \\\n",
        "--summaries_dir={LOGS_DIR} \\\n",
        "--verbosity={VERBOSITY} \\\n",
        "--eval_step_interval={EVAL_STEP_INTERVAL} \\\n",
        "--save_step_interval={SAVE_STEP_INTERVAL}"
      ],
      "metadata": {
        "id": "Z9JYZ675iG1Z"
      },
      "execution_count": null,
      "outputs": []
    },
    {
      "cell_type": "markdown",
      "source": [
        "# Bỏ qua quá trình huấn luyện\n",
        "\n",
        "Nếu bạn không muốn mất một hoặc hai tiếng để huấn luyện mô hình từ đầu, bạn có thể tải về các checkpoint đã được huấn luyện sẵn bằng cách bỏ comment các dòng bên dưới (xóa ký tự ‘#’ ở đầu mỗi dòng) và chạy chúng.\n"
      ],
      "metadata": {
        "id": "VFtEWKlpif11"
      }
    },
    {
      "cell_type": "code",
      "source": [
        "#!curl -O \"https://storage.googleapis.com/download.tensorflow.org/models/tflite/speech_micro_train_2020_05_10.tgz\"\n",
        "#!tar xzf speech_micro_train_2020_05_10.tgz"
      ],
      "metadata": {
        "id": "3DVWtGdaifnO"
      },
      "execution_count": null,
      "outputs": []
    },
    {
      "cell_type": "markdown",
      "source": [
        "## Tạo một mô hình TensorFlow để suy luận\n",
        "\n",
        "Kết hợp các kết quả huấn luyện liên quan (đồ thị, trọng số, v.v.) vào một tệp duy nhất để sử dụng cho việc suy luận. Quá trình này được gọi là \"đóng băng\" mô hình và mô hình thu được gọi là mô hình/đồ thị đã đóng băng, vì sau quá trình này mô hình không thể được huấn luyện tiếp nữa.\n"
      ],
      "metadata": {
        "id": "yuxf79Deit8V"
      }
    },
    {
      "cell_type": "code",
      "source": [
        "!rm -rf {SAVED_MODEL}\n",
        "!python tensorflow/tensorflow/examples/speech_commands/freeze.py \\\n",
        "--wanted_words=$WANTED_WORDS \\\n",
        "--window_stride_ms=$WINDOW_STRIDE \\\n",
        "--preprocess=$PREPROCESS \\\n",
        "--model_architecture=$MODEL_ARCHITECTURE \\\n",
        "--start_checkpoint=$TRAIN_DIR$MODEL_ARCHITECTURE'.ckpt-'{TOTAL_STEPS} \\\n",
        "--save_format=saved_model \\\n",
        "--output_file={SAVED_MODEL}"
      ],
      "metadata": {
        "id": "fEGlLdVxivNI"
      },
      "execution_count": null,
      "outputs": []
    },
    {
      "cell_type": "markdown",
      "source": [
        "## Tạo một mô hình TensorFlow Lite\n",
        "\n",
        "Chuyển đổi đồ thị đã đóng băng thành một mô hình TensorFlow Lite, mô hình này sẽ được lượng tử hóa hoàn toàn để sử dụng với các thiết bị nhúng.\n",
        "\n",
        "Ô lệnh sau đây cũng sẽ in ra kích thước của mô hình, kích thước này sẽ dưới 20 kilobyte.\n"
      ],
      "metadata": {
        "id": "vn60R8iUi06T"
      }
    },
    {
      "cell_type": "code",
      "source": [
        "import sys\n",
        "# Thêm đường dẫn này để có thể import các mô-đun xử lý giọng nói.\n",
        "sys.path.append(\"/content/tensorflow/tensorflow/examples/speech_commands/\")\n",
        "import input_data  # Nhập module để xử lý dữ liệu đầu vào âm thanh.\n",
        "import models      # Nhập module chứa các kiến trúc mô hình nhận dạng giọng nói.\n",
        "import numpy as np # Nhập thư viện numpy để xử lý tính toán số học và ma trận.\n"
      ],
      "metadata": {
        "id": "lttsI1yMi9AE"
      },
      "execution_count": null,
      "outputs": []
    },
    {
      "cell_type": "code",
      "source": [
        "SAMPLE_RATE = 16000\n",
        "CLIP_DURATION_MS = 1000\n",
        "WINDOW_SIZE_MS = 30.0\n",
        "FEATURE_BIN_COUNT = 40\n",
        "BACKGROUND_FREQUENCY = 0.8\n",
        "BACKGROUND_VOLUME_RANGE = 0.1\n",
        "TIME_SHIFT_MS = 100.0\n",
        "\n",
        "DATA_URL = 'https://storage.googleapis.com/download.tensorflow.org/data/speech_commands_v0.02.tar.gz'\n",
        "VALIDATION_PERCENTAGE = 10\n",
        "TESTING_PERCENTAGE = 10"
      ],
      "metadata": {
        "id": "ZnK7oD6si-9-"
      },
      "execution_count": null,
      "outputs": []
    },
    {
      "cell_type": "code",
      "source": [
        "# Cấu hình các tham số cho mô hình nhận dạng từ khóa\n",
        "model_settings = models.prepare_model_settings(\n",
        "    len(input_data.prepare_words_list(WANTED_WORDS.split(','))), # Số lượng nhãn/từ khóa cần nhận dạng\n",
        "    SAMPLE_RATE,       # Tần số lấy mẫu âm thanh (Hz), ví dụ 16000Hz\n",
        "    CLIP_DURATION_MS,  # Thời lượng mỗi đoạn audio (tính bằng mili giây)\n",
        "    WINDOW_SIZE_MS,    # Kích thước cửa sổ phân tích tín hiệu (ms)\n",
        "    WINDOW_STRIDE,     # Bước trượt của cửa sổ phân tích (ms)\n",
        "    FEATURE_BIN_COUNT, # Số lượng đặc trưng sau khi trích xuất (ví dụ số lượng MFCC)\n",
        "    PREPROCESS         # Loại tiền xử lý đặc trưng (vd: MFCC, micro...)\n",
        ")\n",
        "\n",
        "# Khởi tạo bộ xử lý âm thanh, chịu trách nhiệm:\n",
        "# - Tải dữ liệu về (nếu cần)\n",
        "# - Tiền xử lý, chia tỉ lệ dữ liệu (train/validation/test)\n",
        "# - Tạo nhãn cho từng file âm thanh\n",
        "audio_processor = input_data.AudioProcessor(\n",
        "    DATA_URL,                # Đường dẫn tải dữ liệu gốc (có thể là url Google Speech Commands)\n",
        "    DATASET_DIR,             # Thư mục lưu dữ liệu local\n",
        "    SILENT_PERCENTAGE,       # Tỉ lệ mẫu 'silence' (im lặng) trong tập huấn luyện\n",
        "    UNKNOWN_PERCENTAGE,      # Tỉ lệ mẫu 'unknown' (không phải từ khóa) trong tập huấn luyện\n",
        "    WANTED_WORDS.split(','), # Danh sách các từ khóa mục tiêu cần nhận dạng\n",
        "    VALIDATION_PERCENTAGE,   # Tỉ lệ dữ liệu validation (%)\n",
        "    TESTING_PERCENTAGE,      # Tỉ lệ dữ liệu test (%)\n",
        "    model_settings,          # Tham số cấu hình mô hình (ở trên)\n",
        "    LOGS_DIR                 # Thư mục lưu lại các log/quá trình tiền xử lý\n",
        ")\n"
      ],
      "metadata": {
        "id": "JW-SH0Hqi_76"
      },
      "execution_count": null,
      "outputs": []
    },
    {
      "cell_type": "code",
      "source": [
        "with tf.compat.v1.Session() as sess:\n",
        "    # Tạo bộ chuyển đổi để chuyển mô hình TensorFlow đã lưu thành mô hình TensorFlow Lite (dạng số thực - float).\n",
        "    float_converter = tf.lite.TFLiteConverter.from_saved_model(SAVED_MODEL)\n",
        "    # Thực hiện chuyển đổi mô hình sang định dạng .tflite (dạng số thực).\n",
        "    float_tflite_model = float_converter.convert()\n",
        "    # Ghi mô hình đã chuyển đổi ra file nhị phân, lấy tên từ biến FLOAT_MODEL_TFLITE.\n",
        "    float_tflite_model_size = open(FLOAT_MODEL_TFLITE, \"wb\").write(float_tflite_model)\n",
        "    # In ra kích thước của file mô hình dạng float.\n",
        "    print(\"Float model is %d bytes\" % float_tflite_model_size)\n",
        "\n",
        "    # Tiếp tục tạo bộ chuyển đổi mô hình, lần này để chuyển sang dạng lượng tử hóa (quantized).\n",
        "    converter = tf.lite.TFLiteConverter.from_saved_model(SAVED_MODEL)\n",
        "    # Thiết lập chế độ tối ưu hóa mặc định (bao gồm lượng tử hóa).\n",
        "    converter.optimizations = [tf.lite.Optimize.DEFAULT]\n",
        "    # Thiết lập kiểu dữ liệu đầu vào và đầu ra là int8 (để lượng tử hóa toàn phần).\n",
        "    converter.inference_input_type = tf.int8\n",
        "    converter.inference_output_type = tf.int8\n",
        "\n",
        "    # Định nghĩa hàm sinh dữ liệu đại diện (representative dataset generator)\n",
        "    # Hàm này dùng một tập mẫu nhỏ từ dữ liệu thật để hướng dẫn quá trình lượng tử hóa, giúp mô hình giữ được độ chính xác.\n",
        "    def representative_dataset_gen():\n",
        "        for i in range(100):\n",
        "            data, _ = audio_processor.get_data(\n",
        "                1,                # Số lượng mẫu mỗi lần lấy\n",
        "                i*1,              # Vị trí bắt đầu lấy mẫu\n",
        "                model_settings,   # Các tham số cấu hình mô hình\n",
        "                BACKGROUND_FREQUENCY,\n",
        "                BACKGROUND_VOLUME_RANGE,\n",
        "                TIME_SHIFT_MS,\n",
        "                'testing',        # Lấy từ tập kiểm thử\n",
        "                sess              # Phiên TensorFlow hiện tại\n",
        "            )\n",
        "            # Làm phẳng dữ liệu và chuyển thành float32, định dạng đầu vào phù hợp.\n",
        "            flattened_data = np.array(data.flatten(), dtype=np.float32).reshape(1, 1960)\n",
        "            yield [flattened_data]\n",
        "    # Gán generator này cho converter để phục vụ lượng tử hóa.\n",
        "    converter.representative_dataset = representative_dataset_gen\n",
        "\n",
        "    # Thực hiện chuyển đổi mô hình đã lượng tử hóa thành định dạng .tflite.\n",
        "    tflite_model = converter.convert()\n",
        "    # Ghi mô hình đã lượng tử hóa ra file, tên lấy từ biến MODEL_TFLITE.\n",
        "    tflite_model_size = open(MODEL_TFLITE, \"wb\").write(tflite_model)\n",
        "    # In ra kích thước file mô hình đã lượng tử hóa (quantized).\n",
        "    print(\"Quantized model is %d bytes\" % tflite_model_size)\n"
      ],
      "metadata": {
        "id": "2bzcLHx8jIHi"
      },
      "execution_count": null,
      "outputs": []
    },
    {
      "cell_type": "markdown",
      "source": [
        "## Kiểm tra độ chính xác của mô hình TensorFlow Lite\n",
        "\n",
        "Xác minh rằng mô hình mà chúng ta đã xuất ra vẫn còn chính xác, sử dụng API Python của TensorFlow Lite và bộ dữ liệu kiểm tra của chúng ta.\n"
      ],
      "metadata": {
        "id": "__iTHGftjViM"
      }
    },
    {
      "cell_type": "code",
      "source": [
        "# Hàm hỗ trợ để chạy kiểm thử (inference) trên mô hình TFLite\n",
        "def run_tflite_inference(tflite_model_path, model_type=\"Float\"):\n",
        "    # Tải dữ liệu kiểm thử (test)\n",
        "    np.random.seed(0)  # Đặt seed ngẫu nhiên để đảm bảo kết quả kiểm thử có thể lặp lại (reproducible).\n",
        "    with tf.compat.v1.Session() as sess:\n",
        "        test_data, test_labels = audio_processor.get_data(\n",
        "            -1,                  # Lấy toàn bộ mẫu trong tập kiểm thử\n",
        "            0,                   # Vị trí bắt đầu lấy mẫu\n",
        "            model_settings,      # Tham số cấu hình mô hình\n",
        "            BACKGROUND_FREQUENCY,\n",
        "            BACKGROUND_VOLUME_RANGE,\n",
        "            TIME_SHIFT_MS,\n",
        "            'testing',           # Chọn tập dữ liệu là \"testing\"\n",
        "            sess\n",
        "        )\n",
        "    # Mở rộng chiều dữ liệu để phù hợp với đầu vào của mô hình, chuyển về dạng float32\n",
        "    test_data = np.expand_dims(test_data, axis=1).astype(np.float32)\n",
        "\n",
        "    # Khởi tạo bộ thông dịch (interpreter) của TensorFlow Lite\n",
        "    interpreter = tf.lite.Interpreter(\n",
        "        tflite_model_path,\n",
        "        experimental_op_resolver_type=tf.lite.experimental.OpResolverType.BUILTIN_REF\n",
        "    )\n",
        "    interpreter.allocate_tensors()  # Cấp phát bộ nhớ cho các tensor của mô hình\n",
        "\n",
        "    # Lấy thông tin về tensor đầu vào và đầu ra của mô hình\n",
        "    input_details = interpreter.get_input_details()[0]\n",
        "    output_details = interpreter.get_output_details()[0]\n",
        "\n",
        "    # Nếu là mô hình lượng tử hóa (Quantized), cần chuyển đổi dữ liệu đầu vào về kiểu int (theo tỉ lệ lượng tử hóa)\n",
        "    if model_type == \"Quantized\":\n",
        "        input_scale, input_zero_point = input_details[\"quantization\"]\n",
        "        test_data = test_data / input_scale + input_zero_point\n",
        "        test_data = test_data.astype(input_details[\"dtype\"])  # Đảm bảo đúng kiểu dữ liệu int8\n",
        "\n",
        "    correct_predictions = 0  # Biến đếm số lần dự đoán đúng\n",
        "    for i in range(len(test_data)):\n",
        "        # Đặt tensor đầu vào cho mô hình (mỗi lần 1 mẫu test)\n",
        "        interpreter.set_tensor(input_details[\"index\"], test_data[i])\n",
        "        interpreter.invoke()  # Thực hiện suy luận (inference)\n",
        "        output = interpreter.get_tensor(output_details[\"index\"])[0]  # Lấy kết quả đầu ra\n",
        "        top_prediction = output.argmax()  # Lấy nhãn có xác suất cao nhất\n",
        "        correct_predictions += (top_prediction == test_labels[i])  # So sánh với nhãn thực tế\n",
        "\n",
        "    # In ra kết quả độ chính xác của mô hình trên tập kiểm thử\n",
        "    print('%s model accuracy is %f%% (Number of test samples=%d)' % (\n",
        "        model_type, (correct_predictions * 100) / len(test_data), len(test_data)))\n"
      ],
      "metadata": {
        "id": "Bofg7_btjcGe"
      },
      "execution_count": null,
      "outputs": []
    },
    {
      "cell_type": "code",
      "source": [
        "# Tính toán độ chính xác của mô hình dạng float (số thực)\n",
        "run_tflite_inference(FLOAT_MODEL_TFLITE)\n",
        "\n",
        "# Tính toán độ chính xác của mô hình đã lượng tử hóa (quantized - dùng số nguyên 8 bit)\n",
        "run_tflite_inference(MODEL_TFLITE, model_type='Quantized')\n"
      ],
      "metadata": {
        "id": "kqGmTAldkHHL"
      },
      "execution_count": null,
      "outputs": []
    },
    {
      "cell_type": "markdown",
      "source": [
        "## Tạo mô hình TensorFlow Lite cho Vi điều khiển\n",
        "\n",
        "Chuyển đổi mô hình TensorFlow Lite thành một tệp mã nguồn C có thể được nạp bởi TensorFlow Lite for Microcontrollers.\n"
      ],
      "metadata": {
        "id": "b_755V-skNBd"
      }
    },
    {
      "cell_type": "code",
      "source": [
        "# Cài đặt tiện ích xxd nếu chưa có (xxd dùng để chuyển file nhị phân sang dạng mã nguồn C)\n",
        "!apt-get update && apt-get -qq install xxd\n",
        "\n",
        "# Chuyển file mô hình .tflite sang dạng mã nguồn C (mảng unsigned char)\n",
        "!xxd -i {MODEL_TFLITE} > {MODEL_TFLITE_MICRO}\n",
        "\n",
        "# Cập nhật tên biến trong file C cho phù hợp với tiêu chuẩn dự án (thường là g_model hoặc tên dễ nhớ)\n",
        "REPLACE_TEXT = MODEL_TFLITE.replace('/', '_').replace('.', '_')\n",
        "!sed -i 's/'{REPLACE_TEXT}'/g_model/g' {MODEL_TFLITE_MICRO}\n"
      ],
      "metadata": {
        "id": "7RMJ8JTAkUId"
      },
      "execution_count": null,
      "outputs": []
    },
    {
      "cell_type": "markdown",
      "source": [
        "## Triển khai lên Vi điều khiển\n",
        "\n",
        "Làm theo hướng dẫn trong [micro\\_speech](https://github.com/tensorflow/tflite-micro/blob/main/tensorflow/lite/micro/examples/micro_speech) README.md cho [TensorFlow Lite for MicroControllers](https://www.tensorflow.org/lite/microcontrollers/overview) để triển khai mô hình này lên một vi điều khiển cụ thể.\n",
        "\n",
        "**Mô hình tham chiếu:** Nếu bạn chưa chỉnh sửa notebook này, bạn có thể làm theo hướng dẫn như bình thường để triển khai mô hình. Tham khảo thư mục [`micro_speech/train/models`](https://github.com/tensorflow/tflite-micro/blob/main/tensorflow/lite/micro/examples/micro_speech/train/models) để truy cập các mô hình được tạo trong notebook này.\n",
        "\n",
        "**Mô hình mới:** Nếu bạn đã tạo một mô hình mới để nhận diện các từ khác: (i) Cập nhật `kCategoryCount` và `kCategoryLabels` trong [`micro_speech/micro_features/micro_model_settings.h`](https://github.com/tensorflow/tflite-micro/blob/main/tensorflow/lite/micro/examples/micro_speech/micro_features/micro_model_settings.h) và (ii) Cập nhật các giá trị gán cho các biến được định nghĩa trong [`micro_speech/micro_features/model.cc`](https://github.com/tensorflow/tflite-micro/blob/main/tensorflow/lite/micro/examples/micro_speech/micro_features/model.cc) bằng các giá trị hiển thị sau khi chạy ô lệnh dưới đây.\n"
      ],
      "metadata": {
        "id": "ksmn8fN6kbTS"
      }
    },
    {
      "cell_type": "code",
      "source": [
        "# In ra nội dung file mã nguồn C vừa tạo từ mô hình TFLite\n",
        "!cat {MODEL_TFLITE_MICRO}"
      ],
      "metadata": {
        "id": "Y908zpcakh1y"
      },
      "execution_count": null,
      "outputs": []
    }
  ]
}
